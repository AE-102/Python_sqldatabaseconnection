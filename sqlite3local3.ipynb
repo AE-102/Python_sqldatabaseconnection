{
 "cells": [
  {
   "cell_type": "code",
   "execution_count": 1,
   "id": "ad210ab4-7519-4912-bac9-b26b64a84ff2",
   "metadata": {},
   "outputs": [],
   "source": [
    "import sqlite3"
   ]
  },
  {
   "cell_type": "code",
   "execution_count": 2,
   "id": "65d51baf-f739-482b-bdde-988a13cdcc30",
   "metadata": {},
   "outputs": [],
   "source": [
    "%load_ext sql"
   ]
  },
  {
   "cell_type": "code",
   "execution_count": 3,
   "id": "cea4836f-6df0-4df1-aab6-33facca0932d",
   "metadata": {},
   "outputs": [],
   "source": [
    "# Creates new database if doesn't exist\n",
    "con = sqlite3.connect('RealWorldData.db')\n",
    "cur = con.cursor()"
   ]
  },
  {
   "cell_type": "code",
   "execution_count": 4,
   "id": "4cdd769a-9327-44ea-81c9-8e3d7312589d",
   "metadata": {},
   "outputs": [],
   "source": [
    "# Creates New Database if does not exist\n",
    "%sql sqlite:///RealWorldData.db"
   ]
  },
  {
   "cell_type": "code",
   "execution_count": 5,
   "id": "579e5507-b678-4e68-9914-84b885c5540e",
   "metadata": {},
   "outputs": [],
   "source": [
    "import pandas as pd"
   ]
  },
  {
   "cell_type": "code",
   "execution_count": 6,
   "id": "5363b84c-dbe2-4fa1-891f-ed7566313afd",
   "metadata": {},
   "outputs": [],
   "source": [
    "df1 = pd.read_csv('ChicagoCensusData.csv')\n",
    "df2 = pd.read_csv('ChicagoCrimeData.csv')\n",
    "df3 = pd.read_csv('ChicagoPublicSchools.csv')"
   ]
  },
  {
   "cell_type": "code",
   "execution_count": 7,
   "id": "dc235bc0-3fd5-449c-abb8-3432d3915014",
   "metadata": {},
   "outputs": [
    {
     "name": "stdout",
     "output_type": "stream",
     "text": [
      "(78, 9) (533, 21) (566, 78)\n"
     ]
    }
   ],
   "source": [
    "print(df1.shape,df2.shape,df3.shape)"
   ]
  },
  {
   "cell_type": "code",
   "execution_count": 8,
   "id": "916b8e69-a4eb-4a3c-9b18-6ecbb0dc3db6",
   "metadata": {},
   "outputs": [
    {
     "name": "stderr",
     "output_type": "stream",
     "text": [
      "C:\\Users\\Anant\\AppData\\Local\\Packages\\PythonSoftwareFoundation.Python.3.9_qbz5n2kfra8p0\\LocalCache\\local-packages\\Python39\\site-packages\\pandas\\core\\generic.py:2605: UserWarning: The spaces in these column names will not be changed. In pandas versions < 0.14, spaces were converted to underscores.\n",
      "  sql.to_sql(\n"
     ]
    }
   ],
   "source": [
    "df1.to_sql('Census_Data',    con, index = False, if_exists = 'replace')\n",
    "df2.to_sql('Crime_Data',     con, index = False, if_exists = 'replace')\n",
    "df3.to_sql('Public_Schools', con, index = False, if_exists = 'replace')"
   ]
  },
  {
   "cell_type": "code",
   "execution_count": 9,
   "id": "d23aaaaa-01f9-4b49-a6ab-0d0487f1d10e",
   "metadata": {},
   "outputs": [
    {
     "name": "stdout",
     "output_type": "stream",
     "text": [
      " * sqlite:///RealWorldData.db\n",
      "Done.\n"
     ]
    },
    {
     "data": {
      "text/html": [
       "<table>\n",
       "    <tr>\n",
       "        <th>name</th>\n",
       "    </tr>\n",
       "    <tr>\n",
       "        <td>Census_Data</td>\n",
       "    </tr>\n",
       "    <tr>\n",
       "        <td>Crime_Data</td>\n",
       "    </tr>\n",
       "    <tr>\n",
       "        <td>Public_Schools</td>\n",
       "    </tr>\n",
       "</table>"
      ],
      "text/plain": [
       "[('Census_Data',), ('Crime_Data',), ('Public_Schools',)]"
      ]
     },
     "execution_count": 9,
     "metadata": {},
     "output_type": "execute_result"
    }
   ],
   "source": [
    "%%sql\n",
    "select name from sqlite_master where type  ='table'"
   ]
  },
  {
   "cell_type": "code",
   "execution_count": 10,
   "id": "c9218fbb-9b02-42ff-8b5a-c2a082bbb258",
   "metadata": {
    "collapsed": true,
    "jupyter": {
     "outputs_hidden": true
    },
    "tags": []
   },
   "outputs": [
    {
     "name": "stdout",
     "output_type": "stream",
     "text": [
      " * sqlite:///RealWorldData.db\n",
      "Done.\n"
     ]
    },
    {
     "data": {
      "text/html": [
       "<table>\n",
       "    <tr>\n",
       "        <th>name</th>\n",
       "        <th>typeof(name)</th>\n",
       "        <th>length(name)</th>\n",
       "    </tr>\n",
       "    <tr>\n",
       "        <td>School_ID</td>\n",
       "        <td>text</td>\n",
       "        <td>9</td>\n",
       "    </tr>\n",
       "    <tr>\n",
       "        <td>NAME_OF_SCHOOL</td>\n",
       "        <td>text</td>\n",
       "        <td>14</td>\n",
       "    </tr>\n",
       "    <tr>\n",
       "        <td>Elementary, Middle, or High School</td>\n",
       "        <td>text</td>\n",
       "        <td>34</td>\n",
       "    </tr>\n",
       "    <tr>\n",
       "        <td>Street_Address</td>\n",
       "        <td>text</td>\n",
       "        <td>14</td>\n",
       "    </tr>\n",
       "    <tr>\n",
       "        <td>City</td>\n",
       "        <td>text</td>\n",
       "        <td>4</td>\n",
       "    </tr>\n",
       "    <tr>\n",
       "        <td>State</td>\n",
       "        <td>text</td>\n",
       "        <td>5</td>\n",
       "    </tr>\n",
       "    <tr>\n",
       "        <td>ZIP_Code</td>\n",
       "        <td>text</td>\n",
       "        <td>8</td>\n",
       "    </tr>\n",
       "    <tr>\n",
       "        <td>Phone_Number</td>\n",
       "        <td>text</td>\n",
       "        <td>12</td>\n",
       "    </tr>\n",
       "    <tr>\n",
       "        <td>Link</td>\n",
       "        <td>text</td>\n",
       "        <td>4</td>\n",
       "    </tr>\n",
       "    <tr>\n",
       "        <td>Network_Manager</td>\n",
       "        <td>text</td>\n",
       "        <td>15</td>\n",
       "    </tr>\n",
       "    <tr>\n",
       "        <td>Collaborative_Name</td>\n",
       "        <td>text</td>\n",
       "        <td>18</td>\n",
       "    </tr>\n",
       "    <tr>\n",
       "        <td>Adequate_Yearly_Progress_Made_</td>\n",
       "        <td>text</td>\n",
       "        <td>30</td>\n",
       "    </tr>\n",
       "    <tr>\n",
       "        <td>Track_Schedule</td>\n",
       "        <td>text</td>\n",
       "        <td>14</td>\n",
       "    </tr>\n",
       "    <tr>\n",
       "        <td>CPS_Performance_Policy_Status</td>\n",
       "        <td>text</td>\n",
       "        <td>29</td>\n",
       "    </tr>\n",
       "    <tr>\n",
       "        <td>CPS_Performance_Policy_Level</td>\n",
       "        <td>text</td>\n",
       "        <td>28</td>\n",
       "    </tr>\n",
       "    <tr>\n",
       "        <td>HEALTHY_SCHOOL_CERTIFIED</td>\n",
       "        <td>text</td>\n",
       "        <td>24</td>\n",
       "    </tr>\n",
       "    <tr>\n",
       "        <td>Safety_Icon</td>\n",
       "        <td>text</td>\n",
       "        <td>11</td>\n",
       "    </tr>\n",
       "    <tr>\n",
       "        <td>SAFETY_SCORE</td>\n",
       "        <td>text</td>\n",
       "        <td>12</td>\n",
       "    </tr>\n",
       "    <tr>\n",
       "        <td>Family_Involvement_Icon</td>\n",
       "        <td>text</td>\n",
       "        <td>23</td>\n",
       "    </tr>\n",
       "    <tr>\n",
       "        <td>Family_Involvement_Score</td>\n",
       "        <td>text</td>\n",
       "        <td>24</td>\n",
       "    </tr>\n",
       "    <tr>\n",
       "        <td>Environment_Icon</td>\n",
       "        <td>text</td>\n",
       "        <td>16</td>\n",
       "    </tr>\n",
       "    <tr>\n",
       "        <td>Environment_Score</td>\n",
       "        <td>text</td>\n",
       "        <td>17</td>\n",
       "    </tr>\n",
       "    <tr>\n",
       "        <td>Instruction_Icon</td>\n",
       "        <td>text</td>\n",
       "        <td>16</td>\n",
       "    </tr>\n",
       "    <tr>\n",
       "        <td>Instruction_Score</td>\n",
       "        <td>text</td>\n",
       "        <td>17</td>\n",
       "    </tr>\n",
       "    <tr>\n",
       "        <td>Leaders_Icon</td>\n",
       "        <td>text</td>\n",
       "        <td>12</td>\n",
       "    </tr>\n",
       "    <tr>\n",
       "        <td>Leaders_Score</td>\n",
       "        <td>text</td>\n",
       "        <td>13</td>\n",
       "    </tr>\n",
       "    <tr>\n",
       "        <td>Teachers_Icon</td>\n",
       "        <td>text</td>\n",
       "        <td>13</td>\n",
       "    </tr>\n",
       "    <tr>\n",
       "        <td>Teachers_Score</td>\n",
       "        <td>text</td>\n",
       "        <td>14</td>\n",
       "    </tr>\n",
       "    <tr>\n",
       "        <td>Parent_Engagement_Icon</td>\n",
       "        <td>text</td>\n",
       "        <td>22</td>\n",
       "    </tr>\n",
       "    <tr>\n",
       "        <td>Parent_Engagement_Score</td>\n",
       "        <td>text</td>\n",
       "        <td>23</td>\n",
       "    </tr>\n",
       "    <tr>\n",
       "        <td>Parent_Environment_Icon</td>\n",
       "        <td>text</td>\n",
       "        <td>23</td>\n",
       "    </tr>\n",
       "    <tr>\n",
       "        <td>Parent_Environment_Score</td>\n",
       "        <td>text</td>\n",
       "        <td>24</td>\n",
       "    </tr>\n",
       "    <tr>\n",
       "        <td>AVERAGE_STUDENT_ATTENDANCE</td>\n",
       "        <td>text</td>\n",
       "        <td>26</td>\n",
       "    </tr>\n",
       "    <tr>\n",
       "        <td>Rate_of_Misconducts__per_100_students_</td>\n",
       "        <td>text</td>\n",
       "        <td>38</td>\n",
       "    </tr>\n",
       "    <tr>\n",
       "        <td>Average_Teacher_Attendance</td>\n",
       "        <td>text</td>\n",
       "        <td>26</td>\n",
       "    </tr>\n",
       "    <tr>\n",
       "        <td>Individualized_Education_Program_Compliance_Rate</td>\n",
       "        <td>text</td>\n",
       "        <td>48</td>\n",
       "    </tr>\n",
       "    <tr>\n",
       "        <td>Pk_2_Literacy__</td>\n",
       "        <td>text</td>\n",
       "        <td>15</td>\n",
       "    </tr>\n",
       "    <tr>\n",
       "        <td>Pk_2_Math__</td>\n",
       "        <td>text</td>\n",
       "        <td>11</td>\n",
       "    </tr>\n",
       "    <tr>\n",
       "        <td>Gr3_5_Grade_Level_Math__</td>\n",
       "        <td>text</td>\n",
       "        <td>24</td>\n",
       "    </tr>\n",
       "    <tr>\n",
       "        <td>Gr3_5_Grade_Level_Read__</td>\n",
       "        <td>text</td>\n",
       "        <td>24</td>\n",
       "    </tr>\n",
       "    <tr>\n",
       "        <td>Gr3_5_Keep_Pace_Read__</td>\n",
       "        <td>text</td>\n",
       "        <td>22</td>\n",
       "    </tr>\n",
       "    <tr>\n",
       "        <td>Gr3_5_Keep_Pace_Math__</td>\n",
       "        <td>text</td>\n",
       "        <td>22</td>\n",
       "    </tr>\n",
       "    <tr>\n",
       "        <td>Gr6_8_Grade_Level_Math__</td>\n",
       "        <td>text</td>\n",
       "        <td>24</td>\n",
       "    </tr>\n",
       "    <tr>\n",
       "        <td>Gr6_8_Grade_Level_Read__</td>\n",
       "        <td>text</td>\n",
       "        <td>24</td>\n",
       "    </tr>\n",
       "    <tr>\n",
       "        <td>Gr6_8_Keep_Pace_Math_</td>\n",
       "        <td>text</td>\n",
       "        <td>21</td>\n",
       "    </tr>\n",
       "    <tr>\n",
       "        <td>Gr6_8_Keep_Pace_Read__</td>\n",
       "        <td>text</td>\n",
       "        <td>22</td>\n",
       "    </tr>\n",
       "    <tr>\n",
       "        <td>Gr_8_Explore_Math__</td>\n",
       "        <td>text</td>\n",
       "        <td>19</td>\n",
       "    </tr>\n",
       "    <tr>\n",
       "        <td>Gr_8_Explore_Read__</td>\n",
       "        <td>text</td>\n",
       "        <td>19</td>\n",
       "    </tr>\n",
       "    <tr>\n",
       "        <td>ISAT_Exceeding_Math__</td>\n",
       "        <td>text</td>\n",
       "        <td>21</td>\n",
       "    </tr>\n",
       "    <tr>\n",
       "        <td>ISAT_Exceeding_Reading__</td>\n",
       "        <td>text</td>\n",
       "        <td>24</td>\n",
       "    </tr>\n",
       "    <tr>\n",
       "        <td>ISAT_Value_Add_Math</td>\n",
       "        <td>text</td>\n",
       "        <td>19</td>\n",
       "    </tr>\n",
       "    <tr>\n",
       "        <td>ISAT_Value_Add_Read</td>\n",
       "        <td>text</td>\n",
       "        <td>19</td>\n",
       "    </tr>\n",
       "    <tr>\n",
       "        <td>ISAT_Value_Add_Color_Math</td>\n",
       "        <td>text</td>\n",
       "        <td>25</td>\n",
       "    </tr>\n",
       "    <tr>\n",
       "        <td>ISAT_Value_Add_Color_Read</td>\n",
       "        <td>text</td>\n",
       "        <td>25</td>\n",
       "    </tr>\n",
       "    <tr>\n",
       "        <td>Students_Taking__Algebra__</td>\n",
       "        <td>text</td>\n",
       "        <td>26</td>\n",
       "    </tr>\n",
       "    <tr>\n",
       "        <td>Students_Passing__Algebra__</td>\n",
       "        <td>text</td>\n",
       "        <td>27</td>\n",
       "    </tr>\n",
       "    <tr>\n",
       "        <td>9th Grade EXPLORE (2009)</td>\n",
       "        <td>text</td>\n",
       "        <td>24</td>\n",
       "    </tr>\n",
       "    <tr>\n",
       "        <td>9th Grade EXPLORE (2010)</td>\n",
       "        <td>text</td>\n",
       "        <td>24</td>\n",
       "    </tr>\n",
       "    <tr>\n",
       "        <td>10th Grade PLAN (2009)</td>\n",
       "        <td>text</td>\n",
       "        <td>22</td>\n",
       "    </tr>\n",
       "    <tr>\n",
       "        <td>10th Grade PLAN (2010)</td>\n",
       "        <td>text</td>\n",
       "        <td>22</td>\n",
       "    </tr>\n",
       "    <tr>\n",
       "        <td>Net_Change_EXPLORE_and_PLAN</td>\n",
       "        <td>text</td>\n",
       "        <td>27</td>\n",
       "    </tr>\n",
       "    <tr>\n",
       "        <td>11th Grade Average ACT (2011)</td>\n",
       "        <td>text</td>\n",
       "        <td>29</td>\n",
       "    </tr>\n",
       "    <tr>\n",
       "        <td>Net_Change_PLAN_and_ACT</td>\n",
       "        <td>text</td>\n",
       "        <td>23</td>\n",
       "    </tr>\n",
       "    <tr>\n",
       "        <td>College_Eligibility__</td>\n",
       "        <td>text</td>\n",
       "        <td>21</td>\n",
       "    </tr>\n",
       "    <tr>\n",
       "        <td>Graduation_Rate__</td>\n",
       "        <td>text</td>\n",
       "        <td>17</td>\n",
       "    </tr>\n",
       "    <tr>\n",
       "        <td>College_Enrollment_Rate__</td>\n",
       "        <td>text</td>\n",
       "        <td>25</td>\n",
       "    </tr>\n",
       "    <tr>\n",
       "        <td>COLLEGE_ENROLLMENT</td>\n",
       "        <td>text</td>\n",
       "        <td>18</td>\n",
       "    </tr>\n",
       "    <tr>\n",
       "        <td>General_Services_Route</td>\n",
       "        <td>text</td>\n",
       "        <td>22</td>\n",
       "    </tr>\n",
       "    <tr>\n",
       "        <td>Freshman_on_Track_Rate__</td>\n",
       "        <td>text</td>\n",
       "        <td>24</td>\n",
       "    </tr>\n",
       "    <tr>\n",
       "        <td>X_COORDINATE</td>\n",
       "        <td>text</td>\n",
       "        <td>12</td>\n",
       "    </tr>\n",
       "    <tr>\n",
       "        <td>Y_COORDINATE</td>\n",
       "        <td>text</td>\n",
       "        <td>12</td>\n",
       "    </tr>\n",
       "    <tr>\n",
       "        <td>Latitude</td>\n",
       "        <td>text</td>\n",
       "        <td>8</td>\n",
       "    </tr>\n",
       "    <tr>\n",
       "        <td>Longitude</td>\n",
       "        <td>text</td>\n",
       "        <td>9</td>\n",
       "    </tr>\n",
       "    <tr>\n",
       "        <td>COMMUNITY_AREA_NUMBER</td>\n",
       "        <td>text</td>\n",
       "        <td>21</td>\n",
       "    </tr>\n",
       "    <tr>\n",
       "        <td>COMMUNITY_AREA_NAME</td>\n",
       "        <td>text</td>\n",
       "        <td>19</td>\n",
       "    </tr>\n",
       "    <tr>\n",
       "        <td>Ward</td>\n",
       "        <td>text</td>\n",
       "        <td>4</td>\n",
       "    </tr>\n",
       "    <tr>\n",
       "        <td>Police_District</td>\n",
       "        <td>text</td>\n",
       "        <td>15</td>\n",
       "    </tr>\n",
       "    <tr>\n",
       "        <td>Location</td>\n",
       "        <td>text</td>\n",
       "        <td>8</td>\n",
       "    </tr>\n",
       "</table>"
      ],
      "text/plain": [
       "[('School_ID', 'text', 9),\n",
       " ('NAME_OF_SCHOOL', 'text', 14),\n",
       " ('Elementary, Middle, or High School', 'text', 34),\n",
       " ('Street_Address', 'text', 14),\n",
       " ('City', 'text', 4),\n",
       " ('State', 'text', 5),\n",
       " ('ZIP_Code', 'text', 8),\n",
       " ('Phone_Number', 'text', 12),\n",
       " ('Link', 'text', 4),\n",
       " ('Network_Manager', 'text', 15),\n",
       " ('Collaborative_Name', 'text', 18),\n",
       " ('Adequate_Yearly_Progress_Made_', 'text', 30),\n",
       " ('Track_Schedule', 'text', 14),\n",
       " ('CPS_Performance_Policy_Status', 'text', 29),\n",
       " ('CPS_Performance_Policy_Level', 'text', 28),\n",
       " ('HEALTHY_SCHOOL_CERTIFIED', 'text', 24),\n",
       " ('Safety_Icon', 'text', 11),\n",
       " ('SAFETY_SCORE', 'text', 12),\n",
       " ('Family_Involvement_Icon', 'text', 23),\n",
       " ('Family_Involvement_Score', 'text', 24),\n",
       " ('Environment_Icon', 'text', 16),\n",
       " ('Environment_Score', 'text', 17),\n",
       " ('Instruction_Icon', 'text', 16),\n",
       " ('Instruction_Score', 'text', 17),\n",
       " ('Leaders_Icon', 'text', 12),\n",
       " ('Leaders_Score', 'text', 13),\n",
       " ('Teachers_Icon', 'text', 13),\n",
       " ('Teachers_Score', 'text', 14),\n",
       " ('Parent_Engagement_Icon', 'text', 22),\n",
       " ('Parent_Engagement_Score', 'text', 23),\n",
       " ('Parent_Environment_Icon', 'text', 23),\n",
       " ('Parent_Environment_Score', 'text', 24),\n",
       " ('AVERAGE_STUDENT_ATTENDANCE', 'text', 26),\n",
       " ('Rate_of_Misconducts__per_100_students_', 'text', 38),\n",
       " ('Average_Teacher_Attendance', 'text', 26),\n",
       " ('Individualized_Education_Program_Compliance_Rate', 'text', 48),\n",
       " ('Pk_2_Literacy__', 'text', 15),\n",
       " ('Pk_2_Math__', 'text', 11),\n",
       " ('Gr3_5_Grade_Level_Math__', 'text', 24),\n",
       " ('Gr3_5_Grade_Level_Read__', 'text', 24),\n",
       " ('Gr3_5_Keep_Pace_Read__', 'text', 22),\n",
       " ('Gr3_5_Keep_Pace_Math__', 'text', 22),\n",
       " ('Gr6_8_Grade_Level_Math__', 'text', 24),\n",
       " ('Gr6_8_Grade_Level_Read__', 'text', 24),\n",
       " ('Gr6_8_Keep_Pace_Math_', 'text', 21),\n",
       " ('Gr6_8_Keep_Pace_Read__', 'text', 22),\n",
       " ('Gr_8_Explore_Math__', 'text', 19),\n",
       " ('Gr_8_Explore_Read__', 'text', 19),\n",
       " ('ISAT_Exceeding_Math__', 'text', 21),\n",
       " ('ISAT_Exceeding_Reading__', 'text', 24),\n",
       " ('ISAT_Value_Add_Math', 'text', 19),\n",
       " ('ISAT_Value_Add_Read', 'text', 19),\n",
       " ('ISAT_Value_Add_Color_Math', 'text', 25),\n",
       " ('ISAT_Value_Add_Color_Read', 'text', 25),\n",
       " ('Students_Taking__Algebra__', 'text', 26),\n",
       " ('Students_Passing__Algebra__', 'text', 27),\n",
       " ('9th Grade EXPLORE (2009)', 'text', 24),\n",
       " ('9th Grade EXPLORE (2010)', 'text', 24),\n",
       " ('10th Grade PLAN (2009)', 'text', 22),\n",
       " ('10th Grade PLAN (2010)', 'text', 22),\n",
       " ('Net_Change_EXPLORE_and_PLAN', 'text', 27),\n",
       " ('11th Grade Average ACT (2011)', 'text', 29),\n",
       " ('Net_Change_PLAN_and_ACT', 'text', 23),\n",
       " ('College_Eligibility__', 'text', 21),\n",
       " ('Graduation_Rate__', 'text', 17),\n",
       " ('College_Enrollment_Rate__', 'text', 25),\n",
       " ('COLLEGE_ENROLLMENT', 'text', 18),\n",
       " ('General_Services_Route', 'text', 22),\n",
       " ('Freshman_on_Track_Rate__', 'text', 24),\n",
       " ('X_COORDINATE', 'text', 12),\n",
       " ('Y_COORDINATE', 'text', 12),\n",
       " ('Latitude', 'text', 8),\n",
       " ('Longitude', 'text', 9),\n",
       " ('COMMUNITY_AREA_NUMBER', 'text', 21),\n",
       " ('COMMUNITY_AREA_NAME', 'text', 19),\n",
       " ('Ward', 'text', 4),\n",
       " ('Police_District', 'text', 15),\n",
       " ('Location', 'text', 8)]"
      ]
     },
     "execution_count": 10,
     "metadata": {},
     "output_type": "execute_result"
    }
   ],
   "source": [
    "%sql SELECT name,typeof(name),length(name) FROM PRAGMA_TABLE_INFO('PUBLIC_SCHOOLS');"
   ]
  },
  {
   "cell_type": "code",
   "execution_count": 11,
   "id": "5eb2c166-4ed0-4036-904a-9e1fc9910ed3",
   "metadata": {},
   "outputs": [
    {
     "name": "stdout",
     "output_type": "stream",
     "text": [
      " * sqlite:///RealWorldData.db\n",
      "Done.\n"
     ]
    },
    {
     "data": {
      "text/html": [
       "<table>\n",
       "    <tr>\n",
       "        <th>NAME_OF_SCHOOL</th>\n",
       "        <th>REPLACE(average_student_attendance, &#x27;%&#x27;,&#x27;&#x27;)</th>\n",
       "    </tr>\n",
       "    <tr>\n",
       "        <td>Velma F Thomas Early Childhood Center</td>\n",
       "        <td>None</td>\n",
       "    </tr>\n",
       "    <tr>\n",
       "        <td>Richard T Crane Technical Preparatory High School</td>\n",
       "        <td>57.90</td>\n",
       "    </tr>\n",
       "    <tr>\n",
       "        <td>Barbara Vick Early Childhood &amp; Family Center</td>\n",
       "        <td>60.90</td>\n",
       "    </tr>\n",
       "    <tr>\n",
       "        <td>Dyett High School</td>\n",
       "        <td>62.50</td>\n",
       "    </tr>\n",
       "    <tr>\n",
       "        <td>Wendell Phillips Academy High School</td>\n",
       "        <td>63.00</td>\n",
       "    </tr>\n",
       "    <tr>\n",
       "        <td>Orr Academy High School</td>\n",
       "        <td>66.30</td>\n",
       "    </tr>\n",
       "</table>"
      ],
      "text/plain": [
       "[('Velma F Thomas Early Childhood Center', None),\n",
       " ('Richard T Crane Technical Preparatory High School', '57.90'),\n",
       " ('Barbara Vick Early Childhood & Family Center', '60.90'),\n",
       " ('Dyett High School', '62.50'),\n",
       " ('Wendell Phillips Academy High School', '63.00'),\n",
       " ('Orr Academy High School', '66.30')]"
      ]
     },
     "execution_count": 11,
     "metadata": {},
     "output_type": "execute_result"
    }
   ],
   "source": [
    "%%sql\n",
    "SELECT name_of_school, REPLACE(average_student_attendance, '%','') \n",
    "from public_schools\n",
    "order by average_student_attendance \n",
    "limit 6 ;"
   ]
  },
  {
   "cell_type": "code",
   "execution_count": 12,
   "id": "76447e45-7888-4b3d-82b2-1960e7851ee1",
   "metadata": {},
   "outputs": [
    {
     "name": "stdout",
     "output_type": "stream",
     "text": [
      " * sqlite:///RealWorldData.db\n",
      "Done.\n"
     ]
    },
    {
     "data": {
      "text/html": [
       "<table>\n",
       "    <tr>\n",
       "        <th>NAME_OF_SCHOOL</th>\n",
       "        <th>AVERAGE_STUDENT_ATTENDANCE</th>\n",
       "    </tr>\n",
       "    <tr>\n",
       "        <td>Velma F Thomas Early Childhood Center</td>\n",
       "        <td>None</td>\n",
       "    </tr>\n",
       "    <tr>\n",
       "        <td>Richard T Crane Technical Preparatory High School</td>\n",
       "        <td>57.90%</td>\n",
       "    </tr>\n",
       "    <tr>\n",
       "        <td>Barbara Vick Early Childhood &amp; Family Center</td>\n",
       "        <td>60.90%</td>\n",
       "    </tr>\n",
       "    <tr>\n",
       "        <td>Dyett High School</td>\n",
       "        <td>62.50%</td>\n",
       "    </tr>\n",
       "    <tr>\n",
       "        <td>Wendell Phillips Academy High School</td>\n",
       "        <td>63.00%</td>\n",
       "    </tr>\n",
       "</table>"
      ],
      "text/plain": [
       "[('Velma F Thomas Early Childhood Center', None),\n",
       " ('Richard T Crane Technical Preparatory High School', '57.90%'),\n",
       " ('Barbara Vick Early Childhood & Family Center', '60.90%'),\n",
       " ('Dyett High School', '62.50%'),\n",
       " ('Wendell Phillips Academy High School', '63.00%')]"
      ]
     },
     "execution_count": 12,
     "metadata": {},
     "output_type": "execute_result"
    }
   ],
   "source": [
    "%%sql\n",
    "SELECT Name_of_School, Average_Student_Attendance\n",
    "from PUBLIC_SCHOOLS\n",
    "order by Average_Student_Attendance\n",
    "LIMIT 5"
   ]
  },
  {
   "cell_type": "code",
   "execution_count": 13,
   "id": "688483bc-fd4f-4d3c-a505-6215498a332e",
   "metadata": {},
   "outputs": [
    {
     "name": "stdout",
     "output_type": "stream",
     "text": [
      " * sqlite:///RealWorldData.db\n",
      "Done.\n"
     ]
    },
    {
     "data": {
      "text/html": [
       "<table>\n",
       "    <tr>\n",
       "        <th>COUNT(*)</th>\n",
       "    </tr>\n",
       "    <tr>\n",
       "        <td>566</td>\n",
       "    </tr>\n",
       "</table>"
      ],
      "text/plain": [
       "[(566,)]"
      ]
     },
     "execution_count": 13,
     "metadata": {},
     "output_type": "execute_result"
    }
   ],
   "source": [
    "%%sql\n",
    "SELECT COUNT(*) FROM public_schools"
   ]
  },
  {
   "cell_type": "code",
   "execution_count": 14,
   "id": "3670b376-4403-4bc4-ab14-973934d64753",
   "metadata": {},
   "outputs": [
    {
     "name": "stdout",
     "output_type": "stream",
     "text": [
      " * sqlite:///RealWorldData.db\n",
      "Done.\n"
     ]
    },
    {
     "data": {
      "text/html": [
       "<table>\n",
       "    <tr>\n",
       "        <th>COUNT(*)</th>\n",
       "    </tr>\n",
       "    <tr>\n",
       "        <td>533</td>\n",
       "    </tr>\n",
       "</table>"
      ],
      "text/plain": [
       "[(533,)]"
      ]
     },
     "execution_count": 14,
     "metadata": {},
     "output_type": "execute_result"
    }
   ],
   "source": [
    "%%sql\n",
    "SELECT COUNT(*) FROM crime_data"
   ]
  },
  {
   "cell_type": "code",
   "execution_count": 15,
   "id": "2d05b2f1-bd2f-456a-a441-8924f30683e6",
   "metadata": {},
   "outputs": [
    {
     "name": "stdout",
     "output_type": "stream",
     "text": [
      " * sqlite:///RealWorldData.db\n",
      "Done.\n"
     ]
    },
    {
     "data": {
      "text/html": [
       "<table>\n",
       "    <tr>\n",
       "        <th>COUNT(*)</th>\n",
       "    </tr>\n",
       "    <tr>\n",
       "        <td>78</td>\n",
       "    </tr>\n",
       "</table>"
      ],
      "text/plain": [
       "[(78,)]"
      ]
     },
     "execution_count": 15,
     "metadata": {},
     "output_type": "execute_result"
    }
   ],
   "source": [
    "%%sql\n",
    "SELECT COUNT(*) FROM Census_DATA"
   ]
  },
  {
   "cell_type": "markdown",
   "id": "e783341d-a791-41a8-a019-d492f2a2f49a",
   "metadata": {},
   "source": [
    "### Thank You"
   ]
  }
 ],
 "metadata": {
  "kernelspec": {
   "display_name": "Python 3 (ipykernel)",
   "language": "python",
   "name": "python3"
  },
  "language_info": {
   "codemirror_mode": {
    "name": "ipython",
    "version": 3
   },
   "file_extension": ".py",
   "mimetype": "text/x-python",
   "name": "python",
   "nbconvert_exporter": "python",
   "pygments_lexer": "ipython3",
   "version": "3.9.13"
  }
 },
 "nbformat": 4,
 "nbformat_minor": 5
}
