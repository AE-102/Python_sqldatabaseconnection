{
 "cells": [
  {
   "cell_type": "code",
   "execution_count": 18,
   "id": "3e09d252-bbc8-4c22-80a6-52a20d1e1a24",
   "metadata": {},
   "outputs": [],
   "source": [
    "import mysql.connector "
   ]
  },
  {
   "cell_type": "code",
   "execution_count": 19,
   "id": "5d04d422-7636-4e83-ab61-e68d62a8934a",
   "metadata": {},
   "outputs": [
    {
     "name": "stdout",
     "output_type": "stream",
     "text": [
      "Connected to MySQL\n"
     ]
    }
   ],
   "source": [
    "try :\n",
    "    conn = mysql.connector.connect(host = 'localhost', password = 'Indigostars' ,user = 'root')\n",
    "    print('Connected to MySQL')\n",
    "except :\n",
    "    print('Connection Failed')"
   ]
  },
  {
   "cell_type": "code",
   "execution_count": 20,
   "id": "e1ad0669-e5c3-4366-beb3-f65d35a5889d",
   "metadata": {},
   "outputs": [],
   "source": [
    "cursor = conn.cursor(buffered = True)"
   ]
  },
  {
   "cell_type": "code",
   "execution_count": 30,
   "id": "a71441e4-a094-4d12-8299-c4c872dcbab5",
   "metadata": {},
   "outputs": [],
   "source": [
    "sql  = 'use testdatabase'\n",
    "cursor.execute(sql)"
   ]
  },
  {
   "cell_type": "code",
   "execution_count": 43,
   "id": "3796e15f-8dd8-4ce9-bd5e-cd823265da25",
   "metadata": {},
   "outputs": [
    {
     "data": {
      "text/plain": [
       "[(1, 'Cat', Decimal('450.09'), datetime.date(2018, 5, 29), 15),\n",
       " (2, 'Dog', Decimal('666.66'), datetime.date(2018, 6, 1), 3),\n",
       " (3, 'Parrot', Decimal('50.00'), datetime.date(2018, 6, 4), 2),\n",
       " (4, 'Hamster', Decimal('60.60'), datetime.date(2018, 6, 11), 6),\n",
       " (5, 'Goldfish', Decimal('48.48'), datetime.date(2018, 6, 14), 24)]"
      ]
     },
     "execution_count": 43,
     "metadata": {},
     "output_type": "execute_result"
    }
   ],
   "source": [
    "sql  = 'select * from petsale  ;'\n",
    "result = cursor.execute(sql)\n",
    "cursor.fetchall()"
   ]
  },
  {
   "cell_type": "code",
   "execution_count": 44,
   "id": "3f7a7649-ec44-4050-a278-81c85c2aaa5c",
   "metadata": {},
   "outputs": [],
   "source": [
    "sql = \"\"\"CREATE TABLE Laptop ( \n",
    "                             Id int(11) NOT NULL,\n",
    "                             Name varchar(250) NOT NULL,\n",
    "                             Price float NOT NULL,\n",
    "                             Purchase_date Date NOT NULL,\n",
    "                             PRIMARY KEY (Id)) \"\"\"\n",
    "result  = cursor.execute(sql)"
   ]
  },
  {
   "cell_type": "code",
   "execution_count": 46,
   "id": "456c1569-78ea-4da7-a9c0-f232f6bb6159",
   "metadata": {},
   "outputs": [],
   "source": [
    "sql = \"\"\" create procedure testconnected()\n",
    "          begin\n",
    "          select * from petsale;\n",
    "          end ; \"\"\"\n",
    "cursor.execute(sql)"
   ]
  },
  {
   "cell_type": "code",
   "execution_count": 37,
   "id": "93ea9f40-8600-4a23-8eca-332ae4d3edac",
   "metadata": {},
   "outputs": [
    {
     "data": {
      "text/plain": [
       "[('HL353697', 'BATTERY', 'South Shore', 'SCHOOL, PUBLIC, GROUNDS'),\n",
       " ('HL725506', 'BATTERY', 'Lincoln Square', 'SCHOOL, PUBLIC, BUILDING'),\n",
       " ('HP716225', 'BATTERY', 'Douglas', 'SCHOOL, PUBLIC, BUILDING'),\n",
       " ('HH639427', 'BATTERY', 'Austin', 'SCHOOL, PUBLIC, BUILDING'),\n",
       " ('JA460432', 'BATTERY', 'Ashburn', 'SCHOOL, PUBLIC, GROUNDS'),\n",
       " ('HS200939', 'CRIMINAL DAMAGE', 'Austin', 'SCHOOL, PUBLIC, GROUNDS'),\n",
       " ('HK577020', 'NARCOTICS', 'Rogers Park', 'SCHOOL, PUBLIC, GROUNDS'),\n",
       " ('HS305355', 'NARCOTICS', 'Brighton Park', 'SCHOOL, PUBLIC, BUILDING'),\n",
       " ('HT315369', 'ASSAULT', 'East Garfield Park', 'SCHOOL, PUBLIC, GROUNDS'),\n",
       " ('HR585012', 'CRIMINAL TRESPASS', 'Ashburn', 'SCHOOL, PUBLIC, GROUNDS'),\n",
       " ('HH292682',\n",
       "  'PUBLIC PEACE VIOLATION',\n",
       "  'CHICAGO',\n",
       "  'SCHOOL, PRIVATE, BUILDING'),\n",
       " ('G635735', 'PUBLIC PEACE VIOLATION', 'CHICAGO', 'SCHOOL, PUBLIC, BUILDING')]"
      ]
     },
     "execution_count": 37,
     "metadata": {},
     "output_type": "execute_result"
    }
   ],
   "source": [
    "sql  = \"select cc.CASE_NUMBER, cc.PRIMARY_TYPE, csd.COMMUNITY_AREA_NAME,cc.LOCATION_DESCRIPTION FROM chicago_crime as cc left join chicago_socioeconomic_data as csd on cc.COMMUNITY_AREA_NUMBER = csd.COMMUNITY_AREA_NUMBER where cc.LOCATION_DESCRIPTION like '%SCHOOL%';\"\n",
    "cursor.execute(sql)\n",
    "cursor.fetchall()"
   ]
  },
  {
   "cell_type": "code",
   "execution_count": 47,
   "id": "f4c82038-1d40-49d4-9237-8d962316858e",
   "metadata": {},
   "outputs": [],
   "source": [
    "import pandas as pd"
   ]
  },
  {
   "cell_type": "code",
   "execution_count": 48,
   "id": "91a90340-702f-41bc-8d8a-022bca2fbfc2",
   "metadata": {},
   "outputs": [],
   "source": [
    "sql  = 'select * from petrescue;'\n",
    "df = pd.read_sql(sql, conn)"
   ]
  },
  {
   "cell_type": "code",
   "execution_count": 49,
   "id": "06d7ab5f-4e7c-4d5e-b032-4be115088730",
   "metadata": {},
   "outputs": [
    {
     "data": {
      "text/html": [
       "<div>\n",
       "<style scoped>\n",
       "    .dataframe tbody tr th:only-of-type {\n",
       "        vertical-align: middle;\n",
       "    }\n",
       "\n",
       "    .dataframe tbody tr th {\n",
       "        vertical-align: top;\n",
       "    }\n",
       "\n",
       "    .dataframe thead th {\n",
       "        text-align: right;\n",
       "    }\n",
       "</style>\n",
       "<table border=\"1\" class=\"dataframe\">\n",
       "  <thead>\n",
       "    <tr style=\"text-align: right;\">\n",
       "      <th></th>\n",
       "      <th>ID</th>\n",
       "      <th>ANIMAL</th>\n",
       "      <th>QUANTITY</th>\n",
       "      <th>COST</th>\n",
       "      <th>RESCUEDATE</th>\n",
       "    </tr>\n",
       "  </thead>\n",
       "  <tbody>\n",
       "    <tr>\n",
       "      <th>0</th>\n",
       "      <td>1</td>\n",
       "      <td>Cat</td>\n",
       "      <td>15</td>\n",
       "      <td>450.09</td>\n",
       "      <td>2018-05-29</td>\n",
       "    </tr>\n",
       "    <tr>\n",
       "      <th>1</th>\n",
       "      <td>2</td>\n",
       "      <td>Dog</td>\n",
       "      <td>3</td>\n",
       "      <td>666.66</td>\n",
       "      <td>2018-06-01</td>\n",
       "    </tr>\n",
       "    <tr>\n",
       "      <th>2</th>\n",
       "      <td>3</td>\n",
       "      <td>Dog</td>\n",
       "      <td>1</td>\n",
       "      <td>100.00</td>\n",
       "      <td>2018-06-04</td>\n",
       "    </tr>\n",
       "    <tr>\n",
       "      <th>3</th>\n",
       "      <td>4</td>\n",
       "      <td>Parrot</td>\n",
       "      <td>2</td>\n",
       "      <td>50.00</td>\n",
       "      <td>2018-06-04</td>\n",
       "    </tr>\n",
       "    <tr>\n",
       "      <th>4</th>\n",
       "      <td>5</td>\n",
       "      <td>Dog</td>\n",
       "      <td>1</td>\n",
       "      <td>75.75</td>\n",
       "      <td>2018-06-10</td>\n",
       "    </tr>\n",
       "  </tbody>\n",
       "</table>\n",
       "</div>"
      ],
      "text/plain": [
       "   ID  ANIMAL  QUANTITY    COST  RESCUEDATE\n",
       "0   1     Cat        15  450.09  2018-05-29\n",
       "1   2     Dog         3  666.66  2018-06-01\n",
       "2   3     Dog         1  100.00  2018-06-04\n",
       "3   4  Parrot         2   50.00  2018-06-04\n",
       "4   5     Dog         1   75.75  2018-06-10"
      ]
     },
     "execution_count": 49,
     "metadata": {},
     "output_type": "execute_result"
    }
   ],
   "source": [
    "df.head()"
   ]
  },
  {
   "cell_type": "code",
   "execution_count": 51,
   "id": "ddbc7cf5-c130-499c-9778-fba3b378183d",
   "metadata": {},
   "outputs": [
    {
     "data": {
      "text/plain": [
       "(9, 5)"
      ]
     },
     "execution_count": 51,
     "metadata": {},
     "output_type": "execute_result"
    }
   ],
   "source": [
    "df.shape"
   ]
  },
  {
   "cell_type": "code",
   "execution_count": 52,
   "id": "15330235-0ac2-47c8-9785-0c9de48072c5",
   "metadata": {},
   "outputs": [
    {
     "data": {
      "text/plain": [
       "True"
      ]
     },
     "execution_count": 52,
     "metadata": {},
     "output_type": "execute_result"
    }
   ],
   "source": [
    "cursor.close()"
   ]
  },
  {
   "cell_type": "code",
   "execution_count": 55,
   "id": "095b401c-0146-47bf-a624-7d36ea3fc9d5",
   "metadata": {},
   "outputs": [],
   "source": [
    "conn.close()"
   ]
  },
  {
   "cell_type": "code",
   "execution_count": 54,
   "id": "dd92dbce-fb32-4272-be6e-7c448b6f753a",
   "metadata": {},
   "outputs": [
    {
     "data": {
      "text/plain": [
       "<mysql.connector.connection.MySQLConnection at 0x12d2ae93250>"
      ]
     },
     "execution_count": 54,
     "metadata": {},
     "output_type": "execute_result"
    }
   ],
   "source": [
    "conn"
   ]
  },
  {
   "cell_type": "code",
   "execution_count": null,
   "id": "8ac7770a-febc-4097-9199-701d7f1f74c8",
   "metadata": {},
   "outputs": [],
   "source": [
    "sql  = 'select * from petsale  ;'\n",
    "result = cursor.execute(sql)\n",
    "cursor.fetchall()"
   ]
  },
  {
   "cell_type": "code",
   "execution_count": 57,
   "id": "f156fb00-8e56-472d-85c6-afb7e21a51cf",
   "metadata": {},
   "outputs": [
    {
     "data": {
      "text/html": [
       "<div>\n",
       "<style scoped>\n",
       "    .dataframe tbody tr th:only-of-type {\n",
       "        vertical-align: middle;\n",
       "    }\n",
       "\n",
       "    .dataframe tbody tr th {\n",
       "        vertical-align: top;\n",
       "    }\n",
       "\n",
       "    .dataframe thead th {\n",
       "        text-align: right;\n",
       "    }\n",
       "</style>\n",
       "<table border=\"1\" class=\"dataframe\">\n",
       "  <thead>\n",
       "    <tr style=\"text-align: right;\">\n",
       "      <th></th>\n",
       "      <th>ID</th>\n",
       "      <th>ANIMAL</th>\n",
       "      <th>QUANTITY</th>\n",
       "      <th>COST</th>\n",
       "      <th>RESCUEDATE</th>\n",
       "    </tr>\n",
       "  </thead>\n",
       "  <tbody>\n",
       "    <tr>\n",
       "      <th>0</th>\n",
       "      <td>1</td>\n",
       "      <td>Cat</td>\n",
       "      <td>15</td>\n",
       "      <td>450.09</td>\n",
       "      <td>2018-05-29</td>\n",
       "    </tr>\n",
       "    <tr>\n",
       "      <th>1</th>\n",
       "      <td>2</td>\n",
       "      <td>Dog</td>\n",
       "      <td>3</td>\n",
       "      <td>666.66</td>\n",
       "      <td>2018-06-01</td>\n",
       "    </tr>\n",
       "    <tr>\n",
       "      <th>2</th>\n",
       "      <td>3</td>\n",
       "      <td>Dog</td>\n",
       "      <td>1</td>\n",
       "      <td>100.00</td>\n",
       "      <td>2018-06-04</td>\n",
       "    </tr>\n",
       "    <tr>\n",
       "      <th>3</th>\n",
       "      <td>4</td>\n",
       "      <td>Parrot</td>\n",
       "      <td>2</td>\n",
       "      <td>50.00</td>\n",
       "      <td>2018-06-04</td>\n",
       "    </tr>\n",
       "    <tr>\n",
       "      <th>4</th>\n",
       "      <td>5</td>\n",
       "      <td>Dog</td>\n",
       "      <td>1</td>\n",
       "      <td>75.75</td>\n",
       "      <td>2018-06-10</td>\n",
       "    </tr>\n",
       "  </tbody>\n",
       "</table>\n",
       "</div>"
      ],
      "text/plain": [
       "   ID  ANIMAL  QUANTITY    COST  RESCUEDATE\n",
       "0   1     Cat        15  450.09  2018-05-29\n",
       "1   2     Dog         3  666.66  2018-06-01\n",
       "2   3     Dog         1  100.00  2018-06-04\n",
       "3   4  Parrot         2   50.00  2018-06-04\n",
       "4   5     Dog         1   75.75  2018-06-10"
      ]
     },
     "execution_count": 57,
     "metadata": {},
     "output_type": "execute_result"
    }
   ],
   "source": [
    "df.head()"
   ]
  },
  {
   "cell_type": "code",
   "execution_count": 59,
   "id": "fab00304-70e9-4bfb-91b0-3b151b913191",
   "metadata": {},
   "outputs": [
    {
     "data": {
      "text/html": [
       "<div>\n",
       "<style scoped>\n",
       "    .dataframe tbody tr th:only-of-type {\n",
       "        vertical-align: middle;\n",
       "    }\n",
       "\n",
       "    .dataframe tbody tr th {\n",
       "        vertical-align: top;\n",
       "    }\n",
       "\n",
       "    .dataframe thead th {\n",
       "        text-align: right;\n",
       "    }\n",
       "</style>\n",
       "<table border=\"1\" class=\"dataframe\">\n",
       "  <thead>\n",
       "    <tr style=\"text-align: right;\">\n",
       "      <th></th>\n",
       "      <th>ID</th>\n",
       "    </tr>\n",
       "  </thead>\n",
       "  <tbody>\n",
       "    <tr>\n",
       "      <th>0</th>\n",
       "      <td>1</td>\n",
       "    </tr>\n",
       "    <tr>\n",
       "      <th>1</th>\n",
       "      <td>2</td>\n",
       "    </tr>\n",
       "    <tr>\n",
       "      <th>2</th>\n",
       "      <td>3</td>\n",
       "    </tr>\n",
       "    <tr>\n",
       "      <th>3</th>\n",
       "      <td>4</td>\n",
       "    </tr>\n",
       "    <tr>\n",
       "      <th>4</th>\n",
       "      <td>5</td>\n",
       "    </tr>\n",
       "    <tr>\n",
       "      <th>5</th>\n",
       "      <td>6</td>\n",
       "    </tr>\n",
       "    <tr>\n",
       "      <th>6</th>\n",
       "      <td>7</td>\n",
       "    </tr>\n",
       "    <tr>\n",
       "      <th>7</th>\n",
       "      <td>8</td>\n",
       "    </tr>\n",
       "    <tr>\n",
       "      <th>8</th>\n",
       "      <td>9</td>\n",
       "    </tr>\n",
       "  </tbody>\n",
       "</table>\n",
       "</div>"
      ],
      "text/plain": [
       "   ID\n",
       "0   1\n",
       "1   2\n",
       "2   3\n",
       "3   4\n",
       "4   5\n",
       "5   6\n",
       "6   7\n",
       "7   8\n",
       "8   9"
      ]
     },
     "execution_count": 59,
     "metadata": {},
     "output_type": "execute_result"
    }
   ],
   "source": [
    "df[['ID']]"
   ]
  },
  {
   "cell_type": "markdown",
   "id": "cfe7f236-2f54-4eca-8a8a-afb674522f59",
   "metadata": {},
   "source": [
    "### Thank You"
   ]
  }
 ],
 "metadata": {
  "kernelspec": {
   "display_name": "Python 3 (ipykernel)",
   "language": "python",
   "name": "python3"
  },
  "language_info": {
   "codemirror_mode": {
    "name": "ipython",
    "version": 3
   },
   "file_extension": ".py",
   "mimetype": "text/x-python",
   "name": "python",
   "nbconvert_exporter": "python",
   "pygments_lexer": "ipython3",
   "version": "3.9.13"
  }
 },
 "nbformat": 4,
 "nbformat_minor": 5
}
